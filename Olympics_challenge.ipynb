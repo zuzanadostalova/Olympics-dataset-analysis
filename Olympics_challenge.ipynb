{
  "nbformat": 4,
  "nbformat_minor": 0,
  "metadata": {
    "colab": {
      "name": "Olympics_challenge.ipynb",
      "provenance": [],
      "collapsed_sections": [],
      "include_colab_link": true
    },
    "kernelspec": {
      "name": "python3",
      "display_name": "Python 3"
    },
    "language_info": {
      "name": "python"
    }
  },
  "cells": [
    {
      "cell_type": "markdown",
      "metadata": {
        "id": "view-in-github",
        "colab_type": "text"
      },
      "source": [
        "<a href=\"https://colab.research.google.com/github/zuzanadostalova/Olympics-dataset-analysis/blob/main/Olympics_challenge.ipynb\" target=\"_parent\"><img src=\"https://colab.research.google.com/assets/colab-badge.svg\" alt=\"Open In Colab\"/></a>"
      ]
    },
    {
      "cell_type": "code",
      "source": [
        "import pandas as pd\n",
        "import numpy as np"
      ],
      "metadata": {
        "id": "T7vg4xnxBSCH"
      },
      "execution_count": null,
      "outputs": []
    },
    {
      "cell_type": "code",
      "source": [
        "from google.colab import files\n",
        "\n",
        "! pip install opendatasets --upgrade\n",
        "import opendatasets as od\n",
        "\n",
        "dataset_url = 'https://www.kaggle.com/heesoo37/120-years-of-olympic-history-athletes-and-results'\n",
        "od.download(dataset_url)"
      ],
      "metadata": {
        "id": "f-a6SzMofd2z"
      },
      "execution_count": null,
      "outputs": []
    },
    {
      "cell_type": "code",
      "execution_count": null,
      "metadata": {
        "id": "3x5a_6BcAyNG"
      },
      "outputs": [],
      "source": [
        "df = pd.read_csv(\"/content/120-years-of-olympic-history-athletes-and-results/athlete_events.csv\")"
      ]
    },
    {
      "cell_type": "code",
      "source": [
        "df.head(10)"
      ],
      "metadata": {
        "id": "Qc-z4tvHBWKm"
      },
      "execution_count": null,
      "outputs": []
    },
    {
      "cell_type": "code",
      "source": [
        "df = df.drop([\"ID\", \"Name\", \"Team\", \"Games\", \"City\", \"Event\"], axis=1)"
      ],
      "metadata": {
        "id": "ridkkE_WNpWL"
      },
      "execution_count": null,
      "outputs": []
    },
    {
      "cell_type": "code",
      "source": [
        "df = df[df[\"Year\"] > 1959]"
      ],
      "metadata": {
        "id": "hvpE4buVBd0-"
      },
      "execution_count": null,
      "outputs": []
    },
    {
      "cell_type": "code",
      "source": [
        "df['Medal'] = df['Medal'].replace(np.nan, 0)\n",
        "df['Medal'].unique()\n",
        "print(f'shape is {df.shape}')"
      ],
      "metadata": {
        "colab": {
          "base_uri": "https://localhost:8080/"
        },
        "id": "neVIWQlDHeMP",
        "outputId": "855b1ad1-11bb-4be0-d037-e1ca9dcfc28e"
      },
      "execution_count": null,
      "outputs": [
        {
          "output_type": "stream",
          "name": "stdout",
          "text": [
            "shape is (209072, 9)\n"
          ]
        }
      ]
    },
    {
      "cell_type": "code",
      "source": [
        "df = df.dropna()\n",
        "print(f'shape is {df.shape}')"
      ],
      "metadata": {
        "id": "sayRU7FdCreK",
        "colab": {
          "base_uri": "https://localhost:8080/"
        },
        "outputId": "4bde7fe2-7113-431d-8189-0d2c50e3a79e"
      },
      "execution_count": null,
      "outputs": [
        {
          "output_type": "stream",
          "name": "stdout",
          "text": [
            "shape is (196084, 9)\n"
          ]
        }
      ]
    },
    {
      "cell_type": "markdown",
      "source": [
        "### Selecting sport categories"
      ],
      "metadata": {
        "id": "PlfZlMIk4k6B"
      }
    },
    {
      "cell_type": "markdown",
      "source": [
        "### Converting medal names into medal (1) or no medal (0)"
      ],
      "metadata": {
        "id": "H8Ix2Xdd4omZ"
      }
    },
    {
      "cell_type": "code",
      "source": [
        "df = df.replace([\"Gold\", \"Silver\", \"Bronze\"], 1)\n",
        "\n",
        "df.Medal.value_counts()"
      ],
      "metadata": {
        "colab": {
          "base_uri": "https://localhost:8080/"
        },
        "id": "JJw16Ejxc3RN",
        "outputId": "87ff018a-d827-4f61-e07f-a9441ac48f3d"
      },
      "execution_count": null,
      "outputs": [
        {
          "output_type": "execute_result",
          "data": {
            "text/plain": [
              "0    168346\n",
              "1     27738\n",
              "Name: Medal, dtype: int64"
            ]
          },
          "metadata": {},
          "execution_count": 8
        }
      ]
    },
    {
      "cell_type": "code",
      "source": [
        "# check most represented sports\n",
        "df.value_counts('Sport')"
      ],
      "metadata": {
        "id": "VgkXPcupXqIS"
      },
      "execution_count": null,
      "outputs": []
    },
    {
      "cell_type": "markdown",
      "source": [
        "## Winter Olympics datasets:"
      ],
      "metadata": {
        "id": "bjUgoil3Yfie"
      }
    },
    {
      "cell_type": "code",
      "source": [
        "# set Event of interst\n",
        "\n",
        "sport_list = [\"Athletics\", \"Swimming\", \"Gymnastics\"]\n",
        "# rename_mapper = {\n",
        "#     \"Figure Skating Men's Singles\" : \"figure_men\", \n",
        "#     \"Figure Skating Women's Singles\"  : \"figure_wom\", \n",
        "#     \"Speed Skating Men's 1,500 metres\" : \"speed_man\", \n",
        "#     \"Speed Skating Women's 1,500 metres\" : \"speed_wom\"\n",
        "# }"
      ],
      "metadata": {
        "id": "K-534yBaBJUn"
      },
      "execution_count": null,
      "outputs": []
    },
    {
      "cell_type": "code",
      "source": [
        "setattr# filter main dataset and retrieve only categories of interest\n",
        "wd_ag = df[df.Sport.isin(sport_list)].copy().reset_index()\n",
        "# # rename wd_ag events\n",
        "# wd_ag.replace(rename_mapper, inplace=True)\n",
        "# create one hot encoding for NOC adn Event cols\n",
        "noc_one = pd.get_dummies(wd_ag[[\"NOC\", \"Sport\", \"Sex\", \"Season\"]])\n",
        "#noc_one = pd.get_dummies(wd_ag[[\"Event\"]])\n",
        "# concat wd_ag and tmp \n",
        "tmp = pd.concat([wd_ag, noc_one], axis=1)\n",
        "# calc BMI\n",
        "tmp[\"BMI\"] = tmp[\"Weight\"] / ((tmp[\"Height\"] / 100)** 2)\n",
        "# print examples\n",
        "tmp.sample(n=10)"
      ],
      "metadata": {
        "colab": {
          "base_uri": "https://localhost:8080/",
          "height": 456
        },
        "id": "F2TaOSYU7pk6",
        "outputId": "51109e47-0d0f-4e12-97ba-44a2e310052a"
      },
      "execution_count": null,
      "outputs": [
        {
          "output_type": "execute_result",
          "data": {
            "text/plain": [
              "        index Sex   Age  Height  Weight  NOC  Year  Season       Sport  Medal  \\\n",
              "36104  155213   M  23.0   165.0    65.0  USA  1988  Summer   Athletics      0   \n",
              "17337   72487   F  29.0   160.0    57.0  JAM  2016  Summer   Athletics      1   \n",
              "46525  198692   F  16.0   163.0    58.0  FRG  1968  Summer    Swimming      0   \n",
              "43805  187279   F  15.0   175.0    58.0  EST  2004  Summer    Swimming      0   \n",
              "9263    37802   M  26.0   173.0    54.0  MEX  1992  Summer   Athletics      0   \n",
              "15417   63994   M  29.0   171.0    68.0  LUX  1960  Summer  Gymnastics      0   \n",
              "3196    12932   M  30.0   186.0    70.0  AUS  1988  Summer   Athletics      0   \n",
              "34359  147660   M  21.0   180.0    73.0  ITA  1980  Summer   Athletics      0   \n",
              "12071   48870   M  23.0   188.0    75.0  TTO  1992  Summer   Athletics      0   \n",
              "29560  126635   F  20.0   164.0    51.0  FRG  1968  Summer  Gymnastics      0   \n",
              "\n",
              "       ...  NOC_YUG  NOC_ZAM  NOC_ZIM  Sport_Athletics  Sport_Gymnastics  \\\n",
              "36104  ...        0        0        0                1                 0   \n",
              "17337  ...        0        0        0                1                 0   \n",
              "46525  ...        0        0        0                0                 0   \n",
              "43805  ...        0        0        0                0                 0   \n",
              "9263   ...        0        0        0                1                 0   \n",
              "15417  ...        0        0        0                0                 1   \n",
              "3196   ...        0        0        0                1                 0   \n",
              "34359  ...        0        0        0                1                 0   \n",
              "12071  ...        0        0        0                1                 0   \n",
              "29560  ...        0        0        0                0                 1   \n",
              "\n",
              "       Sport_Swimming  Sex_F  Sex_M  Season_Summer        BMI  \n",
              "36104               0      0      1              1  23.875115  \n",
              "17337               0      1      0              1  22.265625  \n",
              "46525               1      1      0              1  21.829952  \n",
              "43805               1      1      0              1  18.938776  \n",
              "9263                0      0      1              1  18.042701  \n",
              "15417               0      0      1              1  23.255019  \n",
              "3196                0      0      1              1  20.233553  \n",
              "34359               0      0      1              1  22.530864  \n",
              "12071               0      0      1              1  21.220009  \n",
              "29560               0      1      0              1  18.961927  \n",
              "\n",
              "[10 rows x 237 columns]"
            ],
            "text/html": [
              "\n",
              "  <div id=\"df-fbdb12e4-3212-4ad4-99f0-ad6951dd6607\">\n",
              "    <div class=\"colab-df-container\">\n",
              "      <div>\n",
              "<style scoped>\n",
              "    .dataframe tbody tr th:only-of-type {\n",
              "        vertical-align: middle;\n",
              "    }\n",
              "\n",
              "    .dataframe tbody tr th {\n",
              "        vertical-align: top;\n",
              "    }\n",
              "\n",
              "    .dataframe thead th {\n",
              "        text-align: right;\n",
              "    }\n",
              "</style>\n",
              "<table border=\"1\" class=\"dataframe\">\n",
              "  <thead>\n",
              "    <tr style=\"text-align: right;\">\n",
              "      <th></th>\n",
              "      <th>index</th>\n",
              "      <th>Sex</th>\n",
              "      <th>Age</th>\n",
              "      <th>Height</th>\n",
              "      <th>Weight</th>\n",
              "      <th>NOC</th>\n",
              "      <th>Year</th>\n",
              "      <th>Season</th>\n",
              "      <th>Sport</th>\n",
              "      <th>Medal</th>\n",
              "      <th>...</th>\n",
              "      <th>NOC_YUG</th>\n",
              "      <th>NOC_ZAM</th>\n",
              "      <th>NOC_ZIM</th>\n",
              "      <th>Sport_Athletics</th>\n",
              "      <th>Sport_Gymnastics</th>\n",
              "      <th>Sport_Swimming</th>\n",
              "      <th>Sex_F</th>\n",
              "      <th>Sex_M</th>\n",
              "      <th>Season_Summer</th>\n",
              "      <th>BMI</th>\n",
              "    </tr>\n",
              "  </thead>\n",
              "  <tbody>\n",
              "    <tr>\n",
              "      <th>36104</th>\n",
              "      <td>155213</td>\n",
              "      <td>M</td>\n",
              "      <td>23.0</td>\n",
              "      <td>165.0</td>\n",
              "      <td>65.0</td>\n",
              "      <td>USA</td>\n",
              "      <td>1988</td>\n",
              "      <td>Summer</td>\n",
              "      <td>Athletics</td>\n",
              "      <td>0</td>\n",
              "      <td>...</td>\n",
              "      <td>0</td>\n",
              "      <td>0</td>\n",
              "      <td>0</td>\n",
              "      <td>1</td>\n",
              "      <td>0</td>\n",
              "      <td>0</td>\n",
              "      <td>0</td>\n",
              "      <td>1</td>\n",
              "      <td>1</td>\n",
              "      <td>23.875115</td>\n",
              "    </tr>\n",
              "    <tr>\n",
              "      <th>17337</th>\n",
              "      <td>72487</td>\n",
              "      <td>F</td>\n",
              "      <td>29.0</td>\n",
              "      <td>160.0</td>\n",
              "      <td>57.0</td>\n",
              "      <td>JAM</td>\n",
              "      <td>2016</td>\n",
              "      <td>Summer</td>\n",
              "      <td>Athletics</td>\n",
              "      <td>1</td>\n",
              "      <td>...</td>\n",
              "      <td>0</td>\n",
              "      <td>0</td>\n",
              "      <td>0</td>\n",
              "      <td>1</td>\n",
              "      <td>0</td>\n",
              "      <td>0</td>\n",
              "      <td>1</td>\n",
              "      <td>0</td>\n",
              "      <td>1</td>\n",
              "      <td>22.265625</td>\n",
              "    </tr>\n",
              "    <tr>\n",
              "      <th>46525</th>\n",
              "      <td>198692</td>\n",
              "      <td>F</td>\n",
              "      <td>16.0</td>\n",
              "      <td>163.0</td>\n",
              "      <td>58.0</td>\n",
              "      <td>FRG</td>\n",
              "      <td>1968</td>\n",
              "      <td>Summer</td>\n",
              "      <td>Swimming</td>\n",
              "      <td>0</td>\n",
              "      <td>...</td>\n",
              "      <td>0</td>\n",
              "      <td>0</td>\n",
              "      <td>0</td>\n",
              "      <td>0</td>\n",
              "      <td>0</td>\n",
              "      <td>1</td>\n",
              "      <td>1</td>\n",
              "      <td>0</td>\n",
              "      <td>1</td>\n",
              "      <td>21.829952</td>\n",
              "    </tr>\n",
              "    <tr>\n",
              "      <th>43805</th>\n",
              "      <td>187279</td>\n",
              "      <td>F</td>\n",
              "      <td>15.0</td>\n",
              "      <td>175.0</td>\n",
              "      <td>58.0</td>\n",
              "      <td>EST</td>\n",
              "      <td>2004</td>\n",
              "      <td>Summer</td>\n",
              "      <td>Swimming</td>\n",
              "      <td>0</td>\n",
              "      <td>...</td>\n",
              "      <td>0</td>\n",
              "      <td>0</td>\n",
              "      <td>0</td>\n",
              "      <td>0</td>\n",
              "      <td>0</td>\n",
              "      <td>1</td>\n",
              "      <td>1</td>\n",
              "      <td>0</td>\n",
              "      <td>1</td>\n",
              "      <td>18.938776</td>\n",
              "    </tr>\n",
              "    <tr>\n",
              "      <th>9263</th>\n",
              "      <td>37802</td>\n",
              "      <td>M</td>\n",
              "      <td>26.0</td>\n",
              "      <td>173.0</td>\n",
              "      <td>54.0</td>\n",
              "      <td>MEX</td>\n",
              "      <td>1992</td>\n",
              "      <td>Summer</td>\n",
              "      <td>Athletics</td>\n",
              "      <td>0</td>\n",
              "      <td>...</td>\n",
              "      <td>0</td>\n",
              "      <td>0</td>\n",
              "      <td>0</td>\n",
              "      <td>1</td>\n",
              "      <td>0</td>\n",
              "      <td>0</td>\n",
              "      <td>0</td>\n",
              "      <td>1</td>\n",
              "      <td>1</td>\n",
              "      <td>18.042701</td>\n",
              "    </tr>\n",
              "    <tr>\n",
              "      <th>15417</th>\n",
              "      <td>63994</td>\n",
              "      <td>M</td>\n",
              "      <td>29.0</td>\n",
              "      <td>171.0</td>\n",
              "      <td>68.0</td>\n",
              "      <td>LUX</td>\n",
              "      <td>1960</td>\n",
              "      <td>Summer</td>\n",
              "      <td>Gymnastics</td>\n",
              "      <td>0</td>\n",
              "      <td>...</td>\n",
              "      <td>0</td>\n",
              "      <td>0</td>\n",
              "      <td>0</td>\n",
              "      <td>0</td>\n",
              "      <td>1</td>\n",
              "      <td>0</td>\n",
              "      <td>0</td>\n",
              "      <td>1</td>\n",
              "      <td>1</td>\n",
              "      <td>23.255019</td>\n",
              "    </tr>\n",
              "    <tr>\n",
              "      <th>3196</th>\n",
              "      <td>12932</td>\n",
              "      <td>M</td>\n",
              "      <td>30.0</td>\n",
              "      <td>186.0</td>\n",
              "      <td>70.0</td>\n",
              "      <td>AUS</td>\n",
              "      <td>1988</td>\n",
              "      <td>Summer</td>\n",
              "      <td>Athletics</td>\n",
              "      <td>0</td>\n",
              "      <td>...</td>\n",
              "      <td>0</td>\n",
              "      <td>0</td>\n",
              "      <td>0</td>\n",
              "      <td>1</td>\n",
              "      <td>0</td>\n",
              "      <td>0</td>\n",
              "      <td>0</td>\n",
              "      <td>1</td>\n",
              "      <td>1</td>\n",
              "      <td>20.233553</td>\n",
              "    </tr>\n",
              "    <tr>\n",
              "      <th>34359</th>\n",
              "      <td>147660</td>\n",
              "      <td>M</td>\n",
              "      <td>21.0</td>\n",
              "      <td>180.0</td>\n",
              "      <td>73.0</td>\n",
              "      <td>ITA</td>\n",
              "      <td>1980</td>\n",
              "      <td>Summer</td>\n",
              "      <td>Athletics</td>\n",
              "      <td>0</td>\n",
              "      <td>...</td>\n",
              "      <td>0</td>\n",
              "      <td>0</td>\n",
              "      <td>0</td>\n",
              "      <td>1</td>\n",
              "      <td>0</td>\n",
              "      <td>0</td>\n",
              "      <td>0</td>\n",
              "      <td>1</td>\n",
              "      <td>1</td>\n",
              "      <td>22.530864</td>\n",
              "    </tr>\n",
              "    <tr>\n",
              "      <th>12071</th>\n",
              "      <td>48870</td>\n",
              "      <td>M</td>\n",
              "      <td>23.0</td>\n",
              "      <td>188.0</td>\n",
              "      <td>75.0</td>\n",
              "      <td>TTO</td>\n",
              "      <td>1992</td>\n",
              "      <td>Summer</td>\n",
              "      <td>Athletics</td>\n",
              "      <td>0</td>\n",
              "      <td>...</td>\n",
              "      <td>0</td>\n",
              "      <td>0</td>\n",
              "      <td>0</td>\n",
              "      <td>1</td>\n",
              "      <td>0</td>\n",
              "      <td>0</td>\n",
              "      <td>0</td>\n",
              "      <td>1</td>\n",
              "      <td>1</td>\n",
              "      <td>21.220009</td>\n",
              "    </tr>\n",
              "    <tr>\n",
              "      <th>29560</th>\n",
              "      <td>126635</td>\n",
              "      <td>F</td>\n",
              "      <td>20.0</td>\n",
              "      <td>164.0</td>\n",
              "      <td>51.0</td>\n",
              "      <td>FRG</td>\n",
              "      <td>1968</td>\n",
              "      <td>Summer</td>\n",
              "      <td>Gymnastics</td>\n",
              "      <td>0</td>\n",
              "      <td>...</td>\n",
              "      <td>0</td>\n",
              "      <td>0</td>\n",
              "      <td>0</td>\n",
              "      <td>0</td>\n",
              "      <td>1</td>\n",
              "      <td>0</td>\n",
              "      <td>1</td>\n",
              "      <td>0</td>\n",
              "      <td>1</td>\n",
              "      <td>18.961927</td>\n",
              "    </tr>\n",
              "  </tbody>\n",
              "</table>\n",
              "<p>10 rows × 237 columns</p>\n",
              "</div>\n",
              "      <button class=\"colab-df-convert\" onclick=\"convertToInteractive('df-fbdb12e4-3212-4ad4-99f0-ad6951dd6607')\"\n",
              "              title=\"Convert this dataframe to an interactive table.\"\n",
              "              style=\"display:none;\">\n",
              "        \n",
              "  <svg xmlns=\"http://www.w3.org/2000/svg\" height=\"24px\"viewBox=\"0 0 24 24\"\n",
              "       width=\"24px\">\n",
              "    <path d=\"M0 0h24v24H0V0z\" fill=\"none\"/>\n",
              "    <path d=\"M18.56 5.44l.94 2.06.94-2.06 2.06-.94-2.06-.94-.94-2.06-.94 2.06-2.06.94zm-11 1L8.5 8.5l.94-2.06 2.06-.94-2.06-.94L8.5 2.5l-.94 2.06-2.06.94zm10 10l.94 2.06.94-2.06 2.06-.94-2.06-.94-.94-2.06-.94 2.06-2.06.94z\"/><path d=\"M17.41 7.96l-1.37-1.37c-.4-.4-.92-.59-1.43-.59-.52 0-1.04.2-1.43.59L10.3 9.45l-7.72 7.72c-.78.78-.78 2.05 0 2.83L4 21.41c.39.39.9.59 1.41.59.51 0 1.02-.2 1.41-.59l7.78-7.78 2.81-2.81c.8-.78.8-2.07 0-2.86zM5.41 20L4 18.59l7.72-7.72 1.47 1.35L5.41 20z\"/>\n",
              "  </svg>\n",
              "      </button>\n",
              "      \n",
              "  <style>\n",
              "    .colab-df-container {\n",
              "      display:flex;\n",
              "      flex-wrap:wrap;\n",
              "      gap: 12px;\n",
              "    }\n",
              "\n",
              "    .colab-df-convert {\n",
              "      background-color: #E8F0FE;\n",
              "      border: none;\n",
              "      border-radius: 50%;\n",
              "      cursor: pointer;\n",
              "      display: none;\n",
              "      fill: #1967D2;\n",
              "      height: 32px;\n",
              "      padding: 0 0 0 0;\n",
              "      width: 32px;\n",
              "    }\n",
              "\n",
              "    .colab-df-convert:hover {\n",
              "      background-color: #E2EBFA;\n",
              "      box-shadow: 0px 1px 2px rgba(60, 64, 67, 0.3), 0px 1px 3px 1px rgba(60, 64, 67, 0.15);\n",
              "      fill: #174EA6;\n",
              "    }\n",
              "\n",
              "    [theme=dark] .colab-df-convert {\n",
              "      background-color: #3B4455;\n",
              "      fill: #D2E3FC;\n",
              "    }\n",
              "\n",
              "    [theme=dark] .colab-df-convert:hover {\n",
              "      background-color: #434B5C;\n",
              "      box-shadow: 0px 1px 3px 1px rgba(0, 0, 0, 0.15);\n",
              "      filter: drop-shadow(0px 1px 2px rgba(0, 0, 0, 0.3));\n",
              "      fill: #FFFFFF;\n",
              "    }\n",
              "  </style>\n",
              "\n",
              "      <script>\n",
              "        const buttonEl =\n",
              "          document.querySelector('#df-fbdb12e4-3212-4ad4-99f0-ad6951dd6607 button.colab-df-convert');\n",
              "        buttonEl.style.display =\n",
              "          google.colab.kernel.accessAllowed ? 'block' : 'none';\n",
              "\n",
              "        async function convertToInteractive(key) {\n",
              "          const element = document.querySelector('#df-fbdb12e4-3212-4ad4-99f0-ad6951dd6607');\n",
              "          const dataTable =\n",
              "            await google.colab.kernel.invokeFunction('convertToInteractive',\n",
              "                                                     [key], {});\n",
              "          if (!dataTable) return;\n",
              "\n",
              "          const docLinkHtml = 'Like what you see? Visit the ' +\n",
              "            '<a target=\"_blank\" href=https://colab.research.google.com/notebooks/data_table.ipynb>data table notebook</a>'\n",
              "            + ' to learn more about interactive tables.';\n",
              "          element.innerHTML = '';\n",
              "          dataTable['output_type'] = 'display_data';\n",
              "          await google.colab.output.renderOutput(dataTable, element);\n",
              "          const docLink = document.createElement('div');\n",
              "          docLink.innerHTML = docLinkHtml;\n",
              "          element.appendChild(docLink);\n",
              "        }\n",
              "      </script>\n",
              "    </div>\n",
              "  </div>\n",
              "  "
            ]
          },
          "metadata": {},
          "execution_count": 11
        }
      ]
    },
    {
      "cell_type": "code",
      "source": [
        "# men_skating = tmp[tmp.Event ==\"Figure Skating Men's Singles\"]\n",
        "# print(f'men_skating shape is\\t{men_skating.shape}')\n",
        "# women_skating = tmp[tmp.Event ==\"Figure Skating Women's Singles\"]\n",
        "# print(f'women_skating shape is\\t{women_skating.shape}')\n",
        "# men_speed_skating = tmp[tmp.Event ==\"Speed Skating Men's 1,500 metres\"]\n",
        "# print(f'men_speed_skating shape is\\t{men_speed_skating.shape}')\n",
        "# women_speed_skating = tmp[tmp.Event ==\"Speed Skating Women's 1,500 metres\"]\n",
        "# print(f'women_speed_skating shape is\\t{women_speed_skating.shape}')"
      ],
      "metadata": {
        "id": "MhqWu4fQXWxd"
      },
      "execution_count": null,
      "outputs": []
    },
    {
      "cell_type": "markdown",
      "source": [
        "### AutoML"
      ],
      "metadata": {
        "id": "nJvc1IyeLhVe"
      }
    },
    {
      "cell_type": "code",
      "source": [
        "!pip install auto-sklearn"
      ],
      "metadata": {
        "id": "Ryz4KHjTMYQb"
      },
      "execution_count": null,
      "outputs": []
    },
    {
      "cell_type": "code",
      "source": [
        "import autosklearn.classification\n",
        "import autosklearn.metrics\n",
        "from sklearn.model_selection import train_test_split\n",
        "from sklearn.preprocessing import StandardScaler, OneHotEncoder\n",
        "from sklearn.pipeline import Pipeline\n",
        "from sklearn.impute import SimpleImputer, KNNImputer\n",
        "from sklearn.preprocessing import OneHotEncoder\n"
      ],
      "metadata": {
        "id": "qZhY5m0aLg5w"
      },
      "execution_count": null,
      "outputs": []
    },
    {
      "cell_type": "code",
      "source": [
        "# setting parameters for autosklearn\n",
        "# generate a function to create an automl\n",
        "# object\n",
        "def make_automl(name_id):\n",
        "  automl = autosklearn.classification.AutoSklearnClassifier(\n",
        "        time_left_for_this_task=300, # limiting possible model combinations and selections to 300s == 5 mins\n",
        "        per_run_time_limit=30,\n",
        "        memory_limit=None,\n",
        "        seed=1,\n",
        "        resampling_strategy='holdout',\n",
        "        resampling_strategy_arguments={\n",
        "            'train_size': 0.8,\n",
        "            'shuffle': True\n",
        "        },\n",
        "        metric=autosklearn.metrics.f1_weighted,\n",
        "        scoring_functions=[\n",
        "                           autosklearn.metrics.f1_weighted, \n",
        "                           autosklearn.metrics.balanced_accuracy,\n",
        "                          autosklearn.metrics.precision_weighted, \n",
        "                           autosklearn.metrics.recall_weighted],\n",
        "        tmp_folder=name_id\n",
        "    )\n",
        "  return(automl)\n",
        "\n",
        "# get statistics\n",
        "def get_metric_result(cv_results):\n",
        "    results = pd.DataFrame.from_dict(cv_results)\n",
        "    results = results[results['status'] == \"Success\"]\n",
        "    cols = ['rank_test_scores', 'param_classifier:__choice__', 'mean_test_score']\n",
        "    cols.extend([key for key in cv_results.keys() if key.startswith('metric_')])\n",
        "    return results[cols]"
      ],
      "metadata": {
        "id": "FEHd3EJeNCvp"
      },
      "execution_count": null,
      "outputs": []
    },
    {
      "cell_type": "code",
      "source": [
        "wdf_dict = {}\n",
        "# drop cols for X\n",
        "X = tmp.drop(['Medal', 'Sport', 'NOC', 'Height', 'Weight', 'index', \"Sex\", \"Season\"], axis=1).copy()\n",
        "print(f'X shape is {X.shape}\\tcols are { \";\".join(X.columns)}')\n",
        "# create labels\n",
        "y = tmp['Medal']\n",
        "print(f'y shape is {y.shape}')\n",
        "X_train, X_test, y_train, y_test = train_test_split(X, y, train_size=0.8, random_state=42)\n",
        "print(f'X_train shape is {X_train.shape}')\n",
        "print(f'y_train shape is {y_train.shape}')\n",
        "print(f'X_test shape is {X_test.shape}')\n",
        "print(f'y_test shape is {y_test.shape}')\n",
        "# create automl object\n",
        "automl_event = make_automl(f'final_sport_model_new')\n",
        "# train model\n",
        "automl_event.fit(X_train, y_train)\n",
        "# stats\n",
        "print(automl_event.sprint_statistics())\n",
        "# get stats\n",
        "metrics = get_metric_result(\n",
        "        automl_event.cv_results_\n",
        "        )\n",
        "# predict to test set\n",
        "predictions_sk = automl_event.predict(X_test)\n",
        "# save prediction to wdf_dict\n",
        "wdf_dict['predictions_sk'] = predictions_sk\n",
        "# save y_test to wdf_dict\n",
        "wdf_dict['y_test'] = y_test\n",
        "# save train metrics\n",
        "wdf_dict['metrics'] = metrics\n",
        "# save model\n",
        "wdf_dict['model'] = automl_event"
      ],
      "metadata": {
        "colab": {
          "base_uri": "https://localhost:8080/"
        },
        "id": "FVRI4Xg0N_Rc",
        "outputId": "02281b9b-1ecc-4a43-d268-a1a33c247713"
      },
      "execution_count": null,
      "outputs": [
        {
          "output_type": "stream",
          "name": "stdout",
          "text": [
            "X shape is (63041, 229)\tcols are Age;Year;NOC_AFG;NOC_AHO;NOC_ALB;NOC_ALG;NOC_AND;NOC_ANG;NOC_ANT;NOC_ARG;NOC_ARM;NOC_ARU;NOC_ASA;NOC_AUS;NOC_AUT;NOC_AZE;NOC_BAH;NOC_BAN;NOC_BAR;NOC_BDI;NOC_BEL;NOC_BEN;NOC_BER;NOC_BIH;NOC_BIZ;NOC_BLR;NOC_BOL;NOC_BOT;NOC_BRA;NOC_BRN;NOC_BRU;NOC_BUL;NOC_BUR;NOC_CAF;NOC_CAM;NOC_CAN;NOC_CAY;NOC_CGO;NOC_CHA;NOC_CHI;NOC_CHN;NOC_CIV;NOC_CMR;NOC_COD;NOC_COK;NOC_COL;NOC_COM;NOC_CPV;NOC_CRC;NOC_CRO;NOC_CUB;NOC_CYP;NOC_CZE;NOC_DEN;NOC_DJI;NOC_DMA;NOC_DOM;NOC_ECU;NOC_EGY;NOC_ERI;NOC_ESA;NOC_ESP;NOC_EST;NOC_ETH;NOC_EUN;NOC_FIJ;NOC_FIN;NOC_FRA;NOC_FRG;NOC_FSM;NOC_GAB;NOC_GAM;NOC_GBR;NOC_GBS;NOC_GDR;NOC_GEO;NOC_GEQ;NOC_GER;NOC_GHA;NOC_GRE;NOC_GRN;NOC_GUA;NOC_GUI;NOC_GUM;NOC_GUY;NOC_HAI;NOC_HKG;NOC_HON;NOC_HUN;NOC_INA;NOC_IND;NOC_IOA;NOC_IRI;NOC_IRL;NOC_IRQ;NOC_ISL;NOC_ISR;NOC_ISV;NOC_ITA;NOC_IVB;NOC_JAM;NOC_JOR;NOC_JPN;NOC_KAZ;NOC_KEN;NOC_KGZ;NOC_KIR;NOC_KOR;NOC_KOS;NOC_KSA;NOC_KUW;NOC_LAO;NOC_LAT;NOC_LBA;NOC_LBR;NOC_LCA;NOC_LES;NOC_LIB;NOC_LIE;NOC_LTU;NOC_LUX;NOC_MAD;NOC_MAL;NOC_MAR;NOC_MAS;NOC_MAW;NOC_MDA;NOC_MDV;NOC_MEX;NOC_MGL;NOC_MHL;NOC_MKD;NOC_MLI;NOC_MLT;NOC_MNE;NOC_MON;NOC_MOZ;NOC_MRI;NOC_MTN;NOC_MYA;NOC_NAM;NOC_NCA;NOC_NED;NOC_NEP;NOC_NGR;NOC_NIG;NOC_NOR;NOC_NZL;NOC_OMA;NOC_PAK;NOC_PAN;NOC_PAR;NOC_PER;NOC_PHI;NOC_PLE;NOC_PLW;NOC_PNG;NOC_POL;NOC_POR;NOC_PRK;NOC_PUR;NOC_QAT;NOC_RHO;NOC_ROT;NOC_ROU;NOC_RSA;NOC_RUS;NOC_RWA;NOC_SAM;NOC_SCG;NOC_SEN;NOC_SEY;NOC_SGP;NOC_SKN;NOC_SLE;NOC_SLO;NOC_SMR;NOC_SOL;NOC_SOM;NOC_SRB;NOC_SRI;NOC_SSD;NOC_STP;NOC_SUD;NOC_SUI;NOC_SUR;NOC_SVK;NOC_SWE;NOC_SWZ;NOC_SYR;NOC_TAN;NOC_TCH;NOC_TGA;NOC_THA;NOC_TJK;NOC_TKM;NOC_TLS;NOC_TOG;NOC_TPE;NOC_TTO;NOC_TUN;NOC_TUR;NOC_TUV;NOC_UAE;NOC_UGA;NOC_UKR;NOC_URS;NOC_URU;NOC_USA;NOC_UZB;NOC_VAN;NOC_VEN;NOC_VIE;NOC_VIN;NOC_VNM;NOC_WIF;NOC_YAR;NOC_YEM;NOC_YMD;NOC_YUG;NOC_ZAM;NOC_ZIM;Sport_Athletics;Sport_Gymnastics;Sport_Swimming;Sex_F;Sex_M;Season_Summer;BMI\n",
            "y shape is (63041,)\n",
            "X_train shape is (50432, 229)\n",
            "y_train shape is (50432,)\n",
            "X_test shape is (12609, 229)\n",
            "y_test shape is (12609,)\n",
            "[WARNING] [2022-03-14 22:36:26,288:Client-EnsembleBuilder] No models better than random - using Dummy loss!Number of models besides current dummy model: 1. Number of dummy models: 1\n",
            "[WARNING] [2022-03-14 22:36:57,426:Client-EnsembleBuilder] No models better than random - using Dummy loss!Number of models besides current dummy model: 1. Number of dummy models: 1\n",
            "[WARNING] [2022-03-14 22:37:04,885:Client-EnsembleBuilder] No models better than random - using Dummy loss!Number of models besides current dummy model: 1. Number of dummy models: 1\n",
            "auto-sklearn results:\n",
            "  Dataset name: f6a6a266-a3e6-11ec-8154-0242ac1c0002\n",
            "  Metric: f1_weighted\n",
            "  Best validation score: 0.893090\n",
            "  Number of target algorithm runs: 12\n",
            "  Number of successful target algorithm runs: 2\n",
            "  Number of crashed target algorithm runs: 3\n",
            "  Number of target algorithms that exceeded the time limit: 7\n",
            "  Number of target algorithms that exceeded the memory limit: 0\n",
            "\n"
          ]
        }
      ]
    },
    {
      "cell_type": "code",
      "source": [
        "wdf_dict['model'].show_models()"
      ],
      "metadata": {
        "colab": {
          "base_uri": "https://localhost:8080/"
        },
        "id": "9FyFJBn-RHls",
        "outputId": "b4dc00ed-b03c-478b-f896-3ca4398c7631"
      },
      "execution_count": null,
      "outputs": [
        {
          "output_type": "execute_result",
          "data": {
            "text/plain": [
              "{7: {'balancing': Balancing(random_state=1),\n",
              "  'classifier': <autosklearn.pipeline.components.classification.ClassifierChoice at 0x7f389eb05b10>,\n",
              "  'cost': 0.10690972844984836,\n",
              "  'data_preprocessor': <autosklearn.pipeline.components.data_preprocessing.DataPreprocessorChoice at 0x7f389eb63a90>,\n",
              "  'ensemble_weight': 1.0,\n",
              "  'feature_preprocessor': <autosklearn.pipeline.components.feature_preprocessing.FeaturePreprocessorChoice at 0x7f389eb3fbd0>,\n",
              "  'model_id': 7,\n",
              "  'rank': 1,\n",
              "  'sklearn_classifier': RandomForestClassifier(criterion='entropy', max_features=3, min_samples_split=5,\n",
              "                         n_estimators=512, n_jobs=1, random_state=1,\n",
              "                         warm_start=True)}}"
            ]
          },
          "metadata": {},
          "execution_count": 19
        }
      ]
    },
    {
      "cell_type": "code",
      "source": [
        "wdf_dict['metrics'].sort_values(\"metric_f1_weighted\", ascending=False)"
      ],
      "metadata": {
        "colab": {
          "base_uri": "https://localhost:8080/",
          "height": 176
        },
        "id": "9u6AWemjP32d",
        "outputId": "2531490f-285c-4c6a-bb42-1c271aecd0cd"
      },
      "execution_count": null,
      "outputs": [
        {
          "output_type": "execute_result",
          "data": {
            "text/plain": [
              "   rank_test_scores param_classifier:__choice__  mean_test_score  \\\n",
              "5                 1               random_forest         0.893090   \n",
              "2                 2               random_forest         0.860625   \n",
              "\n",
              "   metric_f1_weighted  metric_balanced_accuracy  metric_precision_weighted  \\\n",
              "5            0.893090                  0.602132                    0.89195   \n",
              "2            0.860625                  0.500000                    0.81997   \n",
              "\n",
              "   metric_recall_weighted  \n",
              "5                0.911768  \n",
              "2                0.905522  "
            ],
            "text/html": [
              "\n",
              "  <div id=\"df-a31ce3b5-0c2f-49d9-808c-df7f0b3079db\">\n",
              "    <div class=\"colab-df-container\">\n",
              "      <div>\n",
              "<style scoped>\n",
              "    .dataframe tbody tr th:only-of-type {\n",
              "        vertical-align: middle;\n",
              "    }\n",
              "\n",
              "    .dataframe tbody tr th {\n",
              "        vertical-align: top;\n",
              "    }\n",
              "\n",
              "    .dataframe thead th {\n",
              "        text-align: right;\n",
              "    }\n",
              "</style>\n",
              "<table border=\"1\" class=\"dataframe\">\n",
              "  <thead>\n",
              "    <tr style=\"text-align: right;\">\n",
              "      <th></th>\n",
              "      <th>rank_test_scores</th>\n",
              "      <th>param_classifier:__choice__</th>\n",
              "      <th>mean_test_score</th>\n",
              "      <th>metric_f1_weighted</th>\n",
              "      <th>metric_balanced_accuracy</th>\n",
              "      <th>metric_precision_weighted</th>\n",
              "      <th>metric_recall_weighted</th>\n",
              "    </tr>\n",
              "  </thead>\n",
              "  <tbody>\n",
              "    <tr>\n",
              "      <th>5</th>\n",
              "      <td>1</td>\n",
              "      <td>random_forest</td>\n",
              "      <td>0.893090</td>\n",
              "      <td>0.893090</td>\n",
              "      <td>0.602132</td>\n",
              "      <td>0.89195</td>\n",
              "      <td>0.911768</td>\n",
              "    </tr>\n",
              "    <tr>\n",
              "      <th>2</th>\n",
              "      <td>2</td>\n",
              "      <td>random_forest</td>\n",
              "      <td>0.860625</td>\n",
              "      <td>0.860625</td>\n",
              "      <td>0.500000</td>\n",
              "      <td>0.81997</td>\n",
              "      <td>0.905522</td>\n",
              "    </tr>\n",
              "  </tbody>\n",
              "</table>\n",
              "</div>\n",
              "      <button class=\"colab-df-convert\" onclick=\"convertToInteractive('df-a31ce3b5-0c2f-49d9-808c-df7f0b3079db')\"\n",
              "              title=\"Convert this dataframe to an interactive table.\"\n",
              "              style=\"display:none;\">\n",
              "        \n",
              "  <svg xmlns=\"http://www.w3.org/2000/svg\" height=\"24px\"viewBox=\"0 0 24 24\"\n",
              "       width=\"24px\">\n",
              "    <path d=\"M0 0h24v24H0V0z\" fill=\"none\"/>\n",
              "    <path d=\"M18.56 5.44l.94 2.06.94-2.06 2.06-.94-2.06-.94-.94-2.06-.94 2.06-2.06.94zm-11 1L8.5 8.5l.94-2.06 2.06-.94-2.06-.94L8.5 2.5l-.94 2.06-2.06.94zm10 10l.94 2.06.94-2.06 2.06-.94-2.06-.94-.94-2.06-.94 2.06-2.06.94z\"/><path d=\"M17.41 7.96l-1.37-1.37c-.4-.4-.92-.59-1.43-.59-.52 0-1.04.2-1.43.59L10.3 9.45l-7.72 7.72c-.78.78-.78 2.05 0 2.83L4 21.41c.39.39.9.59 1.41.59.51 0 1.02-.2 1.41-.59l7.78-7.78 2.81-2.81c.8-.78.8-2.07 0-2.86zM5.41 20L4 18.59l7.72-7.72 1.47 1.35L5.41 20z\"/>\n",
              "  </svg>\n",
              "      </button>\n",
              "      \n",
              "  <style>\n",
              "    .colab-df-container {\n",
              "      display:flex;\n",
              "      flex-wrap:wrap;\n",
              "      gap: 12px;\n",
              "    }\n",
              "\n",
              "    .colab-df-convert {\n",
              "      background-color: #E8F0FE;\n",
              "      border: none;\n",
              "      border-radius: 50%;\n",
              "      cursor: pointer;\n",
              "      display: none;\n",
              "      fill: #1967D2;\n",
              "      height: 32px;\n",
              "      padding: 0 0 0 0;\n",
              "      width: 32px;\n",
              "    }\n",
              "\n",
              "    .colab-df-convert:hover {\n",
              "      background-color: #E2EBFA;\n",
              "      box-shadow: 0px 1px 2px rgba(60, 64, 67, 0.3), 0px 1px 3px 1px rgba(60, 64, 67, 0.15);\n",
              "      fill: #174EA6;\n",
              "    }\n",
              "\n",
              "    [theme=dark] .colab-df-convert {\n",
              "      background-color: #3B4455;\n",
              "      fill: #D2E3FC;\n",
              "    }\n",
              "\n",
              "    [theme=dark] .colab-df-convert:hover {\n",
              "      background-color: #434B5C;\n",
              "      box-shadow: 0px 1px 3px 1px rgba(0, 0, 0, 0.15);\n",
              "      filter: drop-shadow(0px 1px 2px rgba(0, 0, 0, 0.3));\n",
              "      fill: #FFFFFF;\n",
              "    }\n",
              "  </style>\n",
              "\n",
              "      <script>\n",
              "        const buttonEl =\n",
              "          document.querySelector('#df-a31ce3b5-0c2f-49d9-808c-df7f0b3079db button.colab-df-convert');\n",
              "        buttonEl.style.display =\n",
              "          google.colab.kernel.accessAllowed ? 'block' : 'none';\n",
              "\n",
              "        async function convertToInteractive(key) {\n",
              "          const element = document.querySelector('#df-a31ce3b5-0c2f-49d9-808c-df7f0b3079db');\n",
              "          const dataTable =\n",
              "            await google.colab.kernel.invokeFunction('convertToInteractive',\n",
              "                                                     [key], {});\n",
              "          if (!dataTable) return;\n",
              "\n",
              "          const docLinkHtml = 'Like what you see? Visit the ' +\n",
              "            '<a target=\"_blank\" href=https://colab.research.google.com/notebooks/data_table.ipynb>data table notebook</a>'\n",
              "            + ' to learn more about interactive tables.';\n",
              "          element.innerHTML = '';\n",
              "          dataTable['output_type'] = 'display_data';\n",
              "          await google.colab.output.renderOutput(dataTable, element);\n",
              "          const docLink = document.createElement('div');\n",
              "          docLink.innerHTML = docLinkHtml;\n",
              "          element.appendChild(docLink);\n",
              "        }\n",
              "      </script>\n",
              "    </div>\n",
              "  </div>\n",
              "  "
            ]
          },
          "metadata": {},
          "execution_count": 20
        }
      ]
    },
    {
      "cell_type": "code",
      "source": [
        "from sklearn.metrics import classification_report, confusion_matrix, accuracy_score, precision_score\n",
        "import seaborn as sns\n",
        "\n",
        "classification_report(wdf_dict['y_test'], wdf_dict['predictions_sk'], output_dict=True)\n",
        "cm = confusion_matrix(wdf_dict['y_test'], wdf_dict['predictions_sk'])\n",
        "#tn, fp, fn, tp = confusion_matrix(wdf_dict['y_test'], wdf_dict['predictions_sk']).ravel()\n",
        "#print(tn, fp, fn, tp )\n",
        "print(accuracy_score(wdf_dict['y_test'], wdf_dict['predictions_sk']))\n",
        "print(precision_score(wdf_dict['y_test'], wdf_dict['predictions_sk']))\n",
        "\n",
        "sns.heatmap(cm, annot=True, fmt='d')"
      ],
      "metadata": {
        "colab": {
          "base_uri": "https://localhost:8080/",
          "height": 317
        },
        "id": "OqZQj_KoO3BL",
        "outputId": "fa2081f5-8cf0-49a3-871a-9455b9e59d25"
      },
      "execution_count": null,
      "outputs": [
        {
          "output_type": "stream",
          "name": "stdout",
          "text": [
            "0.9133158854786264\n",
            "0.5778301886792453\n"
          ]
        },
        {
          "output_type": "execute_result",
          "data": {
            "text/plain": [
              "<matplotlib.axes._subplots.AxesSubplot at 0x7f389d0d19d0>"
            ]
          },
          "metadata": {},
          "execution_count": 21
        },
        {
          "output_type": "display_data",
          "data": {
            "text/plain": [
              "<Figure size 432x288 with 2 Axes>"
            ],
            "image/png": "[encoded data removed]"
          },
          "metadata": {
            "needs_background": "light"
          }
        }
      ]
    },
    {
      "cell_type": "markdown",
      "source": [
        "## Random forest feature importance:"
      ],
      "metadata": {
        "id": "4EOe2G5njUqX"
      }
    },
    {
      "cell_type": "markdown",
      "source": [
        "### 1. graph from the presentation based on age, year, country, sport, sex (sex_m, sex_f), season, and bmi: "
      ],
      "metadata": {
        "id": "ZGW_9qWMiJ09"
      }
    },
    {
      "cell_type": "markdown",
      "source": [
        "Note: sex and season are categorical variables, therefore they were one hot encoded into new columns (Sex_F,\tSex_M, and\tSeason_Summer). For this reason, we need to drop the original categorical sex and season columns."
      ],
      "metadata": {
        "id": "-Ew3ayimmG3M"
      }
    },
    {
      "cell_type": "code",
      "source": [
        "X = tmp.drop([\"Medal\", \"Sport\", \"NOC\", \"Height\", \"Weight\", \"index\", \"Sex\", \"Season\"], axis=1)\n",
        "print(f'X shape is {X.shape}\\tcols are { \";\".join(X.columns)}')\n",
        "# create labels\n",
        "y = tmp['Medal']\n",
        "print(f'y shape is {y.shape}')\n",
        "X_train, X_test, y_train, y_test = train_test_split(X, y, train_size=0.8, random_state=42)\n",
        "print(f'X_train shape is {X_train.shape}')\n",
        "print(f'y_train shape is {y_train.shape}')\n",
        "print(f'X_test shape is {X_test.shape}')\n",
        "print(f'y_test shape is {y_test.shape}')"
      ],
      "metadata": {
        "colab": {
          "base_uri": "https://localhost:8080/"
        },
        "outputId": "3c5ca4b9-0c0c-4201-b636-25ff3e9ed2ab",
        "id": "0Z3vFceEiJ09"
      },
      "execution_count": null,
      "outputs": [
        {
          "output_type": "stream",
          "name": "stdout",
          "text": [
            "X shape is (63041, 229)\tcols are Age;Year;NOC_AFG;NOC_AHO;NOC_ALB;NOC_ALG;NOC_AND;NOC_ANG;NOC_ANT;NOC_ARG;NOC_ARM;NOC_ARU;NOC_ASA;NOC_AUS;NOC_AUT;NOC_AZE;NOC_BAH;NOC_BAN;NOC_BAR;NOC_BDI;NOC_BEL;NOC_BEN;NOC_BER;NOC_BIH;NOC_BIZ;NOC_BLR;NOC_BOL;NOC_BOT;NOC_BRA;NOC_BRN;NOC_BRU;NOC_BUL;NOC_BUR;NOC_CAF;NOC_CAM;NOC_CAN;NOC_CAY;NOC_CGO;NOC_CHA;NOC_CHI;NOC_CHN;NOC_CIV;NOC_CMR;NOC_COD;NOC_COK;NOC_COL;NOC_COM;NOC_CPV;NOC_CRC;NOC_CRO;NOC_CUB;NOC_CYP;NOC_CZE;NOC_DEN;NOC_DJI;NOC_DMA;NOC_DOM;NOC_ECU;NOC_EGY;NOC_ERI;NOC_ESA;NOC_ESP;NOC_EST;NOC_ETH;NOC_EUN;NOC_FIJ;NOC_FIN;NOC_FRA;NOC_FRG;NOC_FSM;NOC_GAB;NOC_GAM;NOC_GBR;NOC_GBS;NOC_GDR;NOC_GEO;NOC_GEQ;NOC_GER;NOC_GHA;NOC_GRE;NOC_GRN;NOC_GUA;NOC_GUI;NOC_GUM;NOC_GUY;NOC_HAI;NOC_HKG;NOC_HON;NOC_HUN;NOC_INA;NOC_IND;NOC_IOA;NOC_IRI;NOC_IRL;NOC_IRQ;NOC_ISL;NOC_ISR;NOC_ISV;NOC_ITA;NOC_IVB;NOC_JAM;NOC_JOR;NOC_JPN;NOC_KAZ;NOC_KEN;NOC_KGZ;NOC_KIR;NOC_KOR;NOC_KOS;NOC_KSA;NOC_KUW;NOC_LAO;NOC_LAT;NOC_LBA;NOC_LBR;NOC_LCA;NOC_LES;NOC_LIB;NOC_LIE;NOC_LTU;NOC_LUX;NOC_MAD;NOC_MAL;NOC_MAR;NOC_MAS;NOC_MAW;NOC_MDA;NOC_MDV;NOC_MEX;NOC_MGL;NOC_MHL;NOC_MKD;NOC_MLI;NOC_MLT;NOC_MNE;NOC_MON;NOC_MOZ;NOC_MRI;NOC_MTN;NOC_MYA;NOC_NAM;NOC_NCA;NOC_NED;NOC_NEP;NOC_NGR;NOC_NIG;NOC_NOR;NOC_NZL;NOC_OMA;NOC_PAK;NOC_PAN;NOC_PAR;NOC_PER;NOC_PHI;NOC_PLE;NOC_PLW;NOC_PNG;NOC_POL;NOC_POR;NOC_PRK;NOC_PUR;NOC_QAT;NOC_RHO;NOC_ROT;NOC_ROU;NOC_RSA;NOC_RUS;NOC_RWA;NOC_SAM;NOC_SCG;NOC_SEN;NOC_SEY;NOC_SGP;NOC_SKN;NOC_SLE;NOC_SLO;NOC_SMR;NOC_SOL;NOC_SOM;NOC_SRB;NOC_SRI;NOC_SSD;NOC_STP;NOC_SUD;NOC_SUI;NOC_SUR;NOC_SVK;NOC_SWE;NOC_SWZ;NOC_SYR;NOC_TAN;NOC_TCH;NOC_TGA;NOC_THA;NOC_TJK;NOC_TKM;NOC_TLS;NOC_TOG;NOC_TPE;NOC_TTO;NOC_TUN;NOC_TUR;NOC_TUV;NOC_UAE;NOC_UGA;NOC_UKR;NOC_URS;NOC_URU;NOC_USA;NOC_UZB;NOC_VAN;NOC_VEN;NOC_VIE;NOC_VIN;NOC_VNM;NOC_WIF;NOC_YAR;NOC_YEM;NOC_YMD;NOC_YUG;NOC_ZAM;NOC_ZIM;Sport_Athletics;Sport_Gymnastics;Sport_Swimming;Sex_F;Sex_M;Season_Summer;BMI\n",
            "y shape is (63041,)\n",
            "X_train shape is (50432, 229)\n",
            "y_train shape is (50432,)\n",
            "X_test shape is (12609, 229)\n",
            "y_test shape is (12609,)\n"
          ]
        }
      ]
    },
    {
      "cell_type": "code",
      "source": [
        "X.head()"
      ],
      "metadata": {
        "colab": {
          "base_uri": "https://localhost:8080/",
          "height": 299
        },
        "outputId": "adc073d8-2534-4987-f98e-773bb3c16b4b",
        "id": "Qo7RANTLiJ0-"
      },
      "execution_count": null,
      "outputs": [
        {
          "output_type": "execute_result",
          "data": {
            "text/plain": [
              "    Age  Year  NOC_AFG  NOC_AHO  NOC_ALB  NOC_ALG  NOC_AND  NOC_ANG  NOC_ANT  \\\n",
              "0  31.0  2000        0        0        0        0        0        0        0   \n",
              "1  30.0  2012        0        0        0        0        0        0        0   \n",
              "2  21.0  1996        0        0        0        0        0        0        0   \n",
              "3  21.0  1996        0        0        0        0        0        0        0   \n",
              "4  21.0  1996        0        0        0        0        0        0        0   \n",
              "\n",
              "   NOC_ARG  ...  NOC_YUG  NOC_ZAM  NOC_ZIM  Sport_Athletics  Sport_Gymnastics  \\\n",
              "0        0  ...        0        0        0                1                 0   \n",
              "1        0  ...        0        0        0                1                 0   \n",
              "2        0  ...        0        0        0                0                 0   \n",
              "3        0  ...        0        0        0                0                 0   \n",
              "4        0  ...        0        0        0                0                 0   \n",
              "\n",
              "   Sport_Swimming  Sex_F  Sex_M  Season_Summer        BMI  \n",
              "0               0      0      1              1  36.393158  \n",
              "1               0      0      1              1  21.733535  \n",
              "2               1      0      1              1  20.724838  \n",
              "3               1      0      1              1  20.724838  \n",
              "4               1      0      1              1  20.724838  \n",
              "\n",
              "[5 rows x 229 columns]"
            ],
            "text/html": [
              "\n",
              "  <div id=\"df-46a67e22-9870-4c96-99c5-dfc45db87b43\">\n",
              "    <div class=\"colab-df-container\">\n",
              "      <div>\n",
              "<style scoped>\n",
              "    .dataframe tbody tr th:only-of-type {\n",
              "        vertical-align: middle;\n",
              "    }\n",
              "\n",
              "    .dataframe tbody tr th {\n",
              "        vertical-align: top;\n",
              "    }\n",
              "\n",
              "    .dataframe thead th {\n",
              "        text-align: right;\n",
              "    }\n",
              "</style>\n",
              "<table border=\"1\" class=\"dataframe\">\n",
              "  <thead>\n",
              "    <tr style=\"text-align: right;\">\n",
              "      <th></th>\n",
              "      <th>Age</th>\n",
              "      <th>Year</th>\n",
              "      <th>NOC_AFG</th>\n",
              "      <th>NOC_AHO</th>\n",
              "      <th>NOC_ALB</th>\n",
              "      <th>NOC_ALG</th>\n",
              "      <th>NOC_AND</th>\n",
              "      <th>NOC_ANG</th>\n",
              "      <th>NOC_ANT</th>\n",
              "      <th>NOC_ARG</th>\n",
              "      <th>...</th>\n",
              "      <th>NOC_YUG</th>\n",
              "      <th>NOC_ZAM</th>\n",
              "      <th>NOC_ZIM</th>\n",
              "      <th>Sport_Athletics</th>\n",
              "      <th>Sport_Gymnastics</th>\n",
              "      <th>Sport_Swimming</th>\n",
              "      <th>Sex_F</th>\n",
              "      <th>Sex_M</th>\n",
              "      <th>Season_Summer</th>\n",
              "      <th>BMI</th>\n",
              "    </tr>\n",
              "  </thead>\n",
              "  <tbody>\n",
              "    <tr>\n",
              "      <th>0</th>\n",
              "      <td>31.0</td>\n",
              "      <td>2000</td>\n",
              "      <td>0</td>\n",
              "      <td>0</td>\n",
              "      <td>0</td>\n",
              "      <td>0</td>\n",
              "      <td>0</td>\n",
              "      <td>0</td>\n",
              "      <td>0</td>\n",
              "      <td>0</td>\n",
              "      <td>...</td>\n",
              "      <td>0</td>\n",
              "      <td>0</td>\n",
              "      <td>0</td>\n",
              "      <td>1</td>\n",
              "      <td>0</td>\n",
              "      <td>0</td>\n",
              "      <td>0</td>\n",
              "      <td>1</td>\n",
              "      <td>1</td>\n",
              "      <td>36.393158</td>\n",
              "    </tr>\n",
              "    <tr>\n",
              "      <th>1</th>\n",
              "      <td>30.0</td>\n",
              "      <td>2012</td>\n",
              "      <td>0</td>\n",
              "      <td>0</td>\n",
              "      <td>0</td>\n",
              "      <td>0</td>\n",
              "      <td>0</td>\n",
              "      <td>0</td>\n",
              "      <td>0</td>\n",
              "      <td>0</td>\n",
              "      <td>...</td>\n",
              "      <td>0</td>\n",
              "      <td>0</td>\n",
              "      <td>0</td>\n",
              "      <td>1</td>\n",
              "      <td>0</td>\n",
              "      <td>0</td>\n",
              "      <td>0</td>\n",
              "      <td>1</td>\n",
              "      <td>1</td>\n",
              "      <td>21.733535</td>\n",
              "    </tr>\n",
              "    <tr>\n",
              "      <th>2</th>\n",
              "      <td>21.0</td>\n",
              "      <td>1996</td>\n",
              "      <td>0</td>\n",
              "      <td>0</td>\n",
              "      <td>0</td>\n",
              "      <td>0</td>\n",
              "      <td>0</td>\n",
              "      <td>0</td>\n",
              "      <td>0</td>\n",
              "      <td>0</td>\n",
              "      <td>...</td>\n",
              "      <td>0</td>\n",
              "      <td>0</td>\n",
              "      <td>0</td>\n",
              "      <td>0</td>\n",
              "      <td>0</td>\n",
              "      <td>1</td>\n",
              "      <td>0</td>\n",
              "      <td>1</td>\n",
              "      <td>1</td>\n",
              "      <td>20.724838</td>\n",
              "    </tr>\n",
              "    <tr>\n",
              "      <th>3</th>\n",
              "      <td>21.0</td>\n",
              "      <td>1996</td>\n",
              "      <td>0</td>\n",
              "      <td>0</td>\n",
              "      <td>0</td>\n",
              "      <td>0</td>\n",
              "      <td>0</td>\n",
              "      <td>0</td>\n",
              "      <td>0</td>\n",
              "      <td>0</td>\n",
              "      <td>...</td>\n",
              "      <td>0</td>\n",
              "      <td>0</td>\n",
              "      <td>0</td>\n",
              "      <td>0</td>\n",
              "      <td>0</td>\n",
              "      <td>1</td>\n",
              "      <td>0</td>\n",
              "      <td>1</td>\n",
              "      <td>1</td>\n",
              "      <td>20.724838</td>\n",
              "    </tr>\n",
              "    <tr>\n",
              "      <th>4</th>\n",
              "      <td>21.0</td>\n",
              "      <td>1996</td>\n",
              "      <td>0</td>\n",
              "      <td>0</td>\n",
              "      <td>0</td>\n",
              "      <td>0</td>\n",
              "      <td>0</td>\n",
              "      <td>0</td>\n",
              "      <td>0</td>\n",
              "      <td>0</td>\n",
              "      <td>...</td>\n",
              "      <td>0</td>\n",
              "      <td>0</td>\n",
              "      <td>0</td>\n",
              "      <td>0</td>\n",
              "      <td>0</td>\n",
              "      <td>1</td>\n",
              "      <td>0</td>\n",
              "      <td>1</td>\n",
              "      <td>1</td>\n",
              "      <td>20.724838</td>\n",
              "    </tr>\n",
              "  </tbody>\n",
              "</table>\n",
              "<p>5 rows × 229 columns</p>\n",
              "</div>\n",
              "      <button class=\"colab-df-convert\" onclick=\"convertToInteractive('df-46a67e22-9870-4c96-99c5-dfc45db87b43')\"\n",
              "              title=\"Convert this dataframe to an interactive table.\"\n",
              "              style=\"display:none;\">\n",
              "        \n",
              "  <svg xmlns=\"http://www.w3.org/2000/svg\" height=\"24px\"viewBox=\"0 0 24 24\"\n",
              "       width=\"24px\">\n",
              "    <path d=\"M0 0h24v24H0V0z\" fill=\"none\"/>\n",
              "    <path d=\"M18.56 5.44l.94 2.06.94-2.06 2.06-.94-2.06-.94-.94-2.06-.94 2.06-2.06.94zm-11 1L8.5 8.5l.94-2.06 2.06-.94-2.06-.94L8.5 2.5l-.94 2.06-2.06.94zm10 10l.94 2.06.94-2.06 2.06-.94-2.06-.94-.94-2.06-.94 2.06-2.06.94z\"/><path d=\"M17.41 7.96l-1.37-1.37c-.4-.4-.92-.59-1.43-.59-.52 0-1.04.2-1.43.59L10.3 9.45l-7.72 7.72c-.78.78-.78 2.05 0 2.83L4 21.41c.39.39.9.59 1.41.59.51 0 1.02-.2 1.41-.59l7.78-7.78 2.81-2.81c.8-.78.8-2.07 0-2.86zM5.41 20L4 18.59l7.72-7.72 1.47 1.35L5.41 20z\"/>\n",
              "  </svg>\n",
              "      </button>\n",
              "      \n",
              "  <style>\n",
              "    .colab-df-container {\n",
              "      display:flex;\n",
              "      flex-wrap:wrap;\n",
              "      gap: 12px;\n",
              "    }\n",
              "\n",
              "    .colab-df-convert {\n",
              "      background-color: #E8F0FE;\n",
              "      border: none;\n",
              "      border-radius: 50%;\n",
              "      cursor: pointer;\n",
              "      display: none;\n",
              "      fill: #1967D2;\n",
              "      height: 32px;\n",
              "      padding: 0 0 0 0;\n",
              "      width: 32px;\n",
              "    }\n",
              "\n",
              "    .colab-df-convert:hover {\n",
              "      background-color: #E2EBFA;\n",
              "      box-shadow: 0px 1px 2px rgba(60, 64, 67, 0.3), 0px 1px 3px 1px rgba(60, 64, 67, 0.15);\n",
              "      fill: #174EA6;\n",
              "    }\n",
              "\n",
              "    [theme=dark] .colab-df-convert {\n",
              "      background-color: #3B4455;\n",
              "      fill: #D2E3FC;\n",
              "    }\n",
              "\n",
              "    [theme=dark] .colab-df-convert:hover {\n",
              "      background-color: #434B5C;\n",
              "      box-shadow: 0px 1px 3px 1px rgba(0, 0, 0, 0.15);\n",
              "      filter: drop-shadow(0px 1px 2px rgba(0, 0, 0, 0.3));\n",
              "      fill: #FFFFFF;\n",
              "    }\n",
              "  </style>\n",
              "\n",
              "      <script>\n",
              "        const buttonEl =\n",
              "          document.querySelector('#df-46a67e22-9870-4c96-99c5-dfc45db87b43 button.colab-df-convert');\n",
              "        buttonEl.style.display =\n",
              "          google.colab.kernel.accessAllowed ? 'block' : 'none';\n",
              "\n",
              "        async function convertToInteractive(key) {\n",
              "          const element = document.querySelector('#df-46a67e22-9870-4c96-99c5-dfc45db87b43');\n",
              "          const dataTable =\n",
              "            await google.colab.kernel.invokeFunction('convertToInteractive',\n",
              "                                                     [key], {});\n",
              "          if (!dataTable) return;\n",
              "\n",
              "          const docLinkHtml = 'Like what you see? Visit the ' +\n",
              "            '<a target=\"_blank\" href=https://colab.research.google.com/notebooks/data_table.ipynb>data table notebook</a>'\n",
              "            + ' to learn more about interactive tables.';\n",
              "          element.innerHTML = '';\n",
              "          dataTable['output_type'] = 'display_data';\n",
              "          await google.colab.output.renderOutput(dataTable, element);\n",
              "          const docLink = document.createElement('div');\n",
              "          docLink.innerHTML = docLinkHtml;\n",
              "          element.appendChild(docLink);\n",
              "        }\n",
              "      </script>\n",
              "    </div>\n",
              "  </div>\n",
              "  "
            ]
          },
          "metadata": {},
          "execution_count": 25
        }
      ]
    },
    {
      "cell_type": "code",
      "source": [
        "from sklearn.ensemble import RandomForestClassifier\n",
        "clf_final = RandomForestClassifier(max_depth=200, random_state=42)\n",
        "clf_final.fit(X_train, y_train)"
      ],
      "metadata": {
        "colab": {
          "base_uri": "https://localhost:8080/"
        },
        "outputId": "afc2dee2-3dda-4156-f629-6c5b36141bae",
        "id": "U9EUHTICiJ0-"
      },
      "execution_count": null,
      "outputs": [
        {
          "output_type": "execute_result",
          "data": {
            "text/plain": [
              "RandomForestClassifier(max_depth=200, random_state=42)"
            ]
          },
          "metadata": {},
          "execution_count": 26
        }
      ]
    },
    {
      "cell_type": "code",
      "source": [
        "predictions_all_countr = clf_final.predict(X_test)"
      ],
      "metadata": {
        "id": "PokK7NpUiJ0_"
      },
      "execution_count": null,
      "outputs": []
    },
    {
      "cell_type": "code",
      "source": [
        "cm_final = confusion_matrix(y_test, predictions_all_countr)\n",
        "#tn, fp, fn, tp = confusion_matrix(wdf_dict['y_test'], wdf_dict['predictions_sk']).ravel()\n",
        "#print(tn, fp, fn, tp )\n",
        "print(accuracy_score(y_test, predictions_all_countr))\n",
        "print(precision_score(y_test, predictions_all_countr))\n",
        "\n",
        "sns.heatmap(cm_final, annot=True, fmt='d')"
      ],
      "metadata": {
        "colab": {
          "base_uri": "https://localhost:8080/",
          "height": 317
        },
        "outputId": "c1ec612b-cd14-4866-a8ec-bf9f50d24ff3",
        "id": "vQGt98F2iJ0_"
      },
      "execution_count": null,
      "outputs": [
        {
          "output_type": "stream",
          "name": "stdout",
          "text": [
            "0.9066539773177889\n",
            "0.48846153846153845\n"
          ]
        },
        {
          "output_type": "execute_result",
          "data": {
            "text/plain": [
              "<matplotlib.axes._subplots.AxesSubplot at 0x7f3899b9e090>"
            ]
          },
          "metadata": {},
          "execution_count": 28
        },
        {
          "output_type": "display_data",
          "data": {
            "text/plain": [
              "<Figure size 432x288 with 2 Axes>"
            ],
            "image/png": "[encoded data removed]"
          },
          "metadata": {
            "needs_background": "light"
          }
        }
      ]
    },
    {
      "cell_type": "code",
      "source": [
        "from sklearn.metrics import f1_score\n",
        "f1_score(y_test, predictions_all_countr, average=\"macro\")"
      ],
      "metadata": {
        "colab": {
          "base_uri": "https://localhost:8080/"
        },
        "outputId": "988c94c4-17b7-4317-8b99-40507a2ae4cb",
        "id": "uNC-6kmKiJ0_"
      },
      "execution_count": null,
      "outputs": [
        {
          "output_type": "execute_result",
          "data": {
            "text/plain": [
              "0.671212742102931"
            ]
          },
          "metadata": {},
          "execution_count": 29
        }
      ]
    },
    {
      "cell_type": "code",
      "source": [
        "labels = [\"True_Neg\",\"False_Pos\",\"False_Neg\",\"True_Pos\"]\n",
        "labels = np.asarray(labels).reshape(2,2)\n",
        "sns.heatmap(cm_final, annot=labels, fmt='', cmap='Blues')"
      ],
      "metadata": {
        "colab": {
          "base_uri": "https://localhost:8080/",
          "height": 282
        },
        "outputId": "e03cdaf9-41a4-4c07-dee0-42c70b590088",
        "id": "l5tHyngziJ0_"
      },
      "execution_count": null,
      "outputs": [
        {
          "output_type": "execute_result",
          "data": {
            "text/plain": [
              "<matplotlib.axes._subplots.AxesSubplot at 0x7f3899a7bd50>"
            ]
          },
          "metadata": {},
          "execution_count": 30
        },
        {
          "output_type": "display_data",
          "data": {
            "text/plain": [
              "<Figure size 432x288 with 2 Axes>"
            ],
            "image/png": "[encoded data removed]"
          },
          "metadata": {
            "needs_background": "light"
          }
        }
      ]
    },
    {
      "cell_type": "markdown",
      "source": [
        "BMI is the most important feature:"
      ],
      "metadata": {
        "id": "TlLkFPninxFs"
      }
    },
    {
      "cell_type": "code",
      "source": [
        "feat_importances = pd.Series(clf_final.feature_importances_, index=X.columns)\n",
        "feat_importances.nlargest(5).plot(kind='barh')"
      ],
      "metadata": {
        "colab": {
          "base_uri": "https://localhost:8080/",
          "height": 282
        },
        "outputId": "b64d72b3-39fc-4bbf-e32d-1488479ea6a6",
        "id": "ttzXGVXwiJ1A"
      },
      "execution_count": null,
      "outputs": [
        {
          "output_type": "execute_result",
          "data": {
            "text/plain": [
              "<matplotlib.axes._subplots.AxesSubplot at 0x7f389996d890>"
            ]
          },
          "metadata": {},
          "execution_count": 31
        },
        {
          "output_type": "display_data",
          "data": {
            "text/plain": [
              "<Figure size 432x288 with 1 Axes>"
            ],
            "image/png": "[encoded data removed]"
          },
          "metadata": {
            "needs_background": "light"
          }
        }
      ]
    },
    {
      "cell_type": "markdown",
      "source": [
        "### 2. graph from the presentation based on age, bmi, and sports: "
      ],
      "metadata": {
        "id": "6JsbdYbNh8I4"
      }
    },
    {
      "cell_type": "markdown",
      "source": [
        "Removing features results in lower performace and lower success in discovering medal winners:"
      ],
      "metadata": {
        "id": "-Am2MvYfnbY0"
      }
    },
    {
      "cell_type": "code",
      "source": [
        "X = tmp[[\"Age\",\"BMI\",\"Sport_Athletics\",\t\"Sport_Gymnastics\",\t\"Sport_Swimming\"]]\n",
        "print(f'X shape is {X.shape}\\tcols are { \";\".join(X.columns)}')\n",
        "# create labels\n",
        "y = tmp['Medal']\n",
        "print(f'y shape is {y.shape}')\n",
        "X_train, X_test, y_train, y_test = train_test_split(X, y, train_size=0.8, random_state=42)\n",
        "print(f'X_train shape is {X_train.shape}')\n",
        "print(f'y_train shape is {y_train.shape}')\n",
        "print(f'X_test shape is {X_test.shape}')\n",
        "print(f'y_test shape is {y_test.shape}')"
      ],
      "metadata": {
        "colab": {
          "base_uri": "https://localhost:8080/"
        },
        "id": "Gv7Ah7GTvyyK",
        "outputId": "e8c585ec-a8f5-4da8-e355-4bc1121e142d"
      },
      "execution_count": null,
      "outputs": [
        {
          "output_type": "stream",
          "name": "stdout",
          "text": [
            "X shape is (63041, 5)\tcols are Age;BMI;Sport_Athletics;Sport_Gymnastics;Sport_Swimming\n",
            "y shape is (63041,)\n",
            "X_train shape is (50432, 5)\n",
            "y_train shape is (50432,)\n",
            "X_test shape is (12609, 5)\n",
            "y_test shape is (12609,)\n"
          ]
        }
      ]
    },
    {
      "cell_type": "code",
      "source": [
        "X.head()"
      ],
      "metadata": {
        "colab": {
          "base_uri": "https://localhost:8080/",
          "height": 206
        },
        "id": "AnPXS-m1xUcT",
        "outputId": "97e4868d-7e5d-4d8e-fcdd-3df1ee79358e"
      },
      "execution_count": null,
      "outputs": [
        {
          "output_type": "execute_result",
          "data": {
            "text/plain": [
              "    Age        BMI  Sport_Athletics  Sport_Gymnastics  Sport_Swimming\n",
              "0  31.0  36.393158                1                 0               0\n",
              "1  30.0  21.733535                1                 0               0\n",
              "2  21.0  20.724838                0                 0               1\n",
              "3  21.0  20.724838                0                 0               1\n",
              "4  21.0  20.724838                0                 0               1"
            ],
            "text/html": [
              "\n",
              "  <div id=\"df-f94453af-8686-43ba-94da-8af8f92ac3bc\">\n",
              "    <div class=\"colab-df-container\">\n",
              "      <div>\n",
              "<style scoped>\n",
              "    .dataframe tbody tr th:only-of-type {\n",
              "        vertical-align: middle;\n",
              "    }\n",
              "\n",
              "    .dataframe tbody tr th {\n",
              "        vertical-align: top;\n",
              "    }\n",
              "\n",
              "    .dataframe thead th {\n",
              "        text-align: right;\n",
              "    }\n",
              "</style>\n",
              "<table border=\"1\" class=\"dataframe\">\n",
              "  <thead>\n",
              "    <tr style=\"text-align: right;\">\n",
              "      <th></th>\n",
              "      <th>Age</th>\n",
              "      <th>BMI</th>\n",
              "      <th>Sport_Athletics</th>\n",
              "      <th>Sport_Gymnastics</th>\n",
              "      <th>Sport_Swimming</th>\n",
              "    </tr>\n",
              "  </thead>\n",
              "  <tbody>\n",
              "    <tr>\n",
              "      <th>0</th>\n",
              "      <td>31.0</td>\n",
              "      <td>36.393158</td>\n",
              "      <td>1</td>\n",
              "      <td>0</td>\n",
              "      <td>0</td>\n",
              "    </tr>\n",
              "    <tr>\n",
              "      <th>1</th>\n",
              "      <td>30.0</td>\n",
              "      <td>21.733535</td>\n",
              "      <td>1</td>\n",
              "      <td>0</td>\n",
              "      <td>0</td>\n",
              "    </tr>\n",
              "    <tr>\n",
              "      <th>2</th>\n",
              "      <td>21.0</td>\n",
              "      <td>20.724838</td>\n",
              "      <td>0</td>\n",
              "      <td>0</td>\n",
              "      <td>1</td>\n",
              "    </tr>\n",
              "    <tr>\n",
              "      <th>3</th>\n",
              "      <td>21.0</td>\n",
              "      <td>20.724838</td>\n",
              "      <td>0</td>\n",
              "      <td>0</td>\n",
              "      <td>1</td>\n",
              "    </tr>\n",
              "    <tr>\n",
              "      <th>4</th>\n",
              "      <td>21.0</td>\n",
              "      <td>20.724838</td>\n",
              "      <td>0</td>\n",
              "      <td>0</td>\n",
              "      <td>1</td>\n",
              "    </tr>\n",
              "  </tbody>\n",
              "</table>\n",
              "</div>\n",
              "      <button class=\"colab-df-convert\" onclick=\"convertToInteractive('df-f94453af-8686-43ba-94da-8af8f92ac3bc')\"\n",
              "              title=\"Convert this dataframe to an interactive table.\"\n",
              "              style=\"display:none;\">\n",
              "        \n",
              "  <svg xmlns=\"http://www.w3.org/2000/svg\" height=\"24px\"viewBox=\"0 0 24 24\"\n",
              "       width=\"24px\">\n",
              "    <path d=\"M0 0h24v24H0V0z\" fill=\"none\"/>\n",
              "    <path d=\"M18.56 5.44l.94 2.06.94-2.06 2.06-.94-2.06-.94-.94-2.06-.94 2.06-2.06.94zm-11 1L8.5 8.5l.94-2.06 2.06-.94-2.06-.94L8.5 2.5l-.94 2.06-2.06.94zm10 10l.94 2.06.94-2.06 2.06-.94-2.06-.94-.94-2.06-.94 2.06-2.06.94z\"/><path d=\"M17.41 7.96l-1.37-1.37c-.4-.4-.92-.59-1.43-.59-.52 0-1.04.2-1.43.59L10.3 9.45l-7.72 7.72c-.78.78-.78 2.05 0 2.83L4 21.41c.39.39.9.59 1.41.59.51 0 1.02-.2 1.41-.59l7.78-7.78 2.81-2.81c.8-.78.8-2.07 0-2.86zM5.41 20L4 18.59l7.72-7.72 1.47 1.35L5.41 20z\"/>\n",
              "  </svg>\n",
              "      </button>\n",
              "      \n",
              "  <style>\n",
              "    .colab-df-container {\n",
              "      display:flex;\n",
              "      flex-wrap:wrap;\n",
              "      gap: 12px;\n",
              "    }\n",
              "\n",
              "    .colab-df-convert {\n",
              "      background-color: #E8F0FE;\n",
              "      border: none;\n",
              "      border-radius: 50%;\n",
              "      cursor: pointer;\n",
              "      display: none;\n",
              "      fill: #1967D2;\n",
              "      height: 32px;\n",
              "      padding: 0 0 0 0;\n",
              "      width: 32px;\n",
              "    }\n",
              "\n",
              "    .colab-df-convert:hover {\n",
              "      background-color: #E2EBFA;\n",
              "      box-shadow: 0px 1px 2px rgba(60, 64, 67, 0.3), 0px 1px 3px 1px rgba(60, 64, 67, 0.15);\n",
              "      fill: #174EA6;\n",
              "    }\n",
              "\n",
              "    [theme=dark] .colab-df-convert {\n",
              "      background-color: #3B4455;\n",
              "      fill: #D2E3FC;\n",
              "    }\n",
              "\n",
              "    [theme=dark] .colab-df-convert:hover {\n",
              "      background-color: #434B5C;\n",
              "      box-shadow: 0px 1px 3px 1px rgba(0, 0, 0, 0.15);\n",
              "      filter: drop-shadow(0px 1px 2px rgba(0, 0, 0, 0.3));\n",
              "      fill: #FFFFFF;\n",
              "    }\n",
              "  </style>\n",
              "\n",
              "      <script>\n",
              "        const buttonEl =\n",
              "          document.querySelector('#df-f94453af-8686-43ba-94da-8af8f92ac3bc button.colab-df-convert');\n",
              "        buttonEl.style.display =\n",
              "          google.colab.kernel.accessAllowed ? 'block' : 'none';\n",
              "\n",
              "        async function convertToInteractive(key) {\n",
              "          const element = document.querySelector('#df-f94453af-8686-43ba-94da-8af8f92ac3bc');\n",
              "          const dataTable =\n",
              "            await google.colab.kernel.invokeFunction('convertToInteractive',\n",
              "                                                     [key], {});\n",
              "          if (!dataTable) return;\n",
              "\n",
              "          const docLinkHtml = 'Like what you see? Visit the ' +\n",
              "            '<a target=\"_blank\" href=https://colab.research.google.com/notebooks/data_table.ipynb>data table notebook</a>'\n",
              "            + ' to learn more about interactive tables.';\n",
              "          element.innerHTML = '';\n",
              "          dataTable['output_type'] = 'display_data';\n",
              "          await google.colab.output.renderOutput(dataTable, element);\n",
              "          const docLink = document.createElement('div');\n",
              "          docLink.innerHTML = docLinkHtml;\n",
              "          element.appendChild(docLink);\n",
              "        }\n",
              "      </script>\n",
              "    </div>\n",
              "  </div>\n",
              "  "
            ]
          },
          "metadata": {},
          "execution_count": 33
        }
      ]
    },
    {
      "cell_type": "code",
      "source": [
        "from sklearn.ensemble import RandomForestClassifier\n",
        "clf_final = RandomForestClassifier(max_depth=200, random_state=42)\n",
        "clf_final.fit(X_train, y_train)"
      ],
      "metadata": {
        "colab": {
          "base_uri": "https://localhost:8080/"
        },
        "id": "AS1XIgKOnhWE",
        "outputId": "785e57e0-3032-4371-e1de-14aa033aa93d"
      },
      "execution_count": null,
      "outputs": [
        {
          "output_type": "execute_result",
          "data": {
            "text/plain": [
              "RandomForestClassifier(max_depth=200, random_state=42)"
            ]
          },
          "metadata": {},
          "execution_count": 34
        }
      ]
    },
    {
      "cell_type": "code",
      "source": [
        "predictions_all_countr = clf_final.predict(X_test)"
      ],
      "metadata": {
        "id": "iX3Hk7Dno0wv"
      },
      "execution_count": null,
      "outputs": []
    },
    {
      "cell_type": "code",
      "source": [
        "cm_final = confusion_matrix(y_test, predictions_all_countr)\n",
        "#tn, fp, fn, tp = confusion_matrix(wdf_dict['y_test'], wdf_dict['predictions_sk']).ravel()\n",
        "#print(tn, fp, fn, tp )\n",
        "print(accuracy_score(y_test, predictions_all_countr))\n",
        "print(precision_score(y_test, predictions_all_countr))\n",
        "\n",
        "sns.heatmap(cm_final, annot=True, fmt='d')"
      ],
      "metadata": {
        "colab": {
          "base_uri": "https://localhost:8080/",
          "height": 317
        },
        "id": "PMWPf7Lfo-Fx",
        "outputId": "752e0c55-6663-462e-8681-08b770e19c1e"
      },
      "execution_count": null,
      "outputs": [
        {
          "output_type": "stream",
          "name": "stdout",
          "text": [
            "0.8892061226108335\n",
            "0.3068181818181818\n"
          ]
        },
        {
          "output_type": "execute_result",
          "data": {
            "text/plain": [
              "<matplotlib.axes._subplots.AxesSubplot at 0x7f38999190d0>"
            ]
          },
          "metadata": {},
          "execution_count": 36
        },
        {
          "output_type": "display_data",
          "data": {
            "text/plain": [
              "<Figure size 432x288 with 2 Axes>"
            ],
            "image/png": "[encoded data removed]"
          },
          "metadata": {
            "needs_background": "light"
          }
        }
      ]
    },
    {
      "cell_type": "code",
      "source": [
        "from sklearn.metrics import f1_score\n",
        "f1_score(y_test, predictions_all_countr, average=\"macro\")"
      ],
      "metadata": {
        "colab": {
          "base_uri": "https://localhost:8080/"
        },
        "id": "nfw_o7vwHc_H",
        "outputId": "f3ed9ccb-5490-4ac9-b04b-2d93a5f8a3a3"
      },
      "execution_count": null,
      "outputs": [
        {
          "output_type": "execute_result",
          "data": {
            "text/plain": [
              "0.576683198624413"
            ]
          },
          "metadata": {},
          "execution_count": 37
        }
      ]
    },
    {
      "cell_type": "code",
      "source": [
        "labels = [\"True_Neg\",\"False_Pos\",\"False_Neg\",\"True_Pos\"]\n",
        "labels = np.asarray(labels).reshape(2,2)\n",
        "sns.heatmap(cm_final, annot=labels, fmt='', cmap='Blues')"
      ],
      "metadata": {
        "colab": {
          "base_uri": "https://localhost:8080/",
          "height": 282
        },
        "id": "-oSHQrvPGSyG",
        "outputId": "2bcd017a-c3a9-403c-ef2b-636dbb85dae1"
      },
      "execution_count": null,
      "outputs": [
        {
          "output_type": "execute_result",
          "data": {
            "text/plain": [
              "<matplotlib.axes._subplots.AxesSubplot at 0x7f389989fed0>"
            ]
          },
          "metadata": {},
          "execution_count": 38
        },
        {
          "output_type": "display_data",
          "data": {
            "text/plain": [
              "<Figure size 432x288 with 2 Axes>"
            ],
            "image/png": "[encoded data removed]"
          },
          "metadata": {
            "needs_background": "light"
          }
        }
      ]
    },
    {
      "cell_type": "markdown",
      "source": [
        "We can see that sport category has very low feature importance:"
      ],
      "metadata": {
        "id": "PMPOYGrfnjZz"
      }
    },
    {
      "cell_type": "code",
      "source": [
        "feat_importances = pd.Series(clf_final.feature_importances_, index=X.columns)\n",
        "feat_importances.nlargest(5).plot(kind='barh')"
      ],
      "metadata": {
        "colab": {
          "base_uri": "https://localhost:8080/",
          "height": 282
        },
        "id": "GeDQZg28qH_V",
        "outputId": "1dd57feb-5178-482b-f5cf-f269f7231dc2"
      },
      "execution_count": null,
      "outputs": [
        {
          "output_type": "execute_result",
          "data": {
            "text/plain": [
              "<matplotlib.axes._subplots.AxesSubplot at 0x7f389982c6d0>"
            ]
          },
          "metadata": {},
          "execution_count": 39
        },
        {
          "output_type": "display_data",
          "data": {
            "text/plain": [
              "<Figure size 432x288 with 1 Axes>"
            ],
            "image/png": "[encoded data removed]"
          },
          "metadata": {
            "needs_background": "light"
          }
        }
      ]
    }
  ]
}